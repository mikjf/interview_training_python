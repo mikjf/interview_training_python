{
 "cells": [
  {
   "cell_type": "markdown",
   "id": "a80fd2e1-58df-4a3e-88e4-4a94feaff7c7",
   "metadata": {},
   "source": [
    "# E-mail and password validation"
   ]
  },
  {
   "cell_type": "markdown",
   "id": "fcf153f2-598c-4422-ba40-3fc0ef58ca5c",
   "metadata": {},
   "source": [
    "## 1. E-mail validation with correct formatting function"
   ]
  },
  {
   "cell_type": "markdown",
   "id": "44539940-7f51-48cb-812c-239e241a537b",
   "metadata": {},
   "source": [
    "Create an e-mail validation function that checks if a valid e-mail is inserted without exceptions."
   ]
  },
  {
   "cell_type": "code",
   "execution_count": 3,
   "id": "69032868-1286-4ef8-b478-062dd4f2da55",
   "metadata": {},
   "outputs": [
    {
     "ename": "SyntaxError",
     "evalue": "incomplete input (2999769196.py, line 16)",
     "output_type": "error",
     "traceback": [
      "\u001b[0;36m  Input \u001b[0;32mIn [3]\u001b[0;36m\u001b[0m\n\u001b[0;31m    \u001b[0m\n\u001b[0m    ^\u001b[0m\n\u001b[0;31mSyntaxError\u001b[0m\u001b[0;31m:\u001b[0m incomplete input\n"
     ]
    }
   ],
   "source": [
    "# import regular expression package\n",
    "import re\n",
    "\n",
    "email_address = input('Please enter your e-mail address.')\n",
    "\n",
    "# check if @ is present\n",
    "if '@' in email_address:\n",
    "    \n",
    "    # check if content before @:\n",
    "    if len(email_address.rsplit('@')[0]) > 0:\n",
    "        \n",
    "        # check if no special charactes is directly one after the other:\n",
    "        if re.search('[^a-zA-Z\\d][^a-zA-Z\\d]+', email_address):\n",
    "            print('No valid e-mail address')\n",
    "        else:\n",
    "            email_end = re.split('[.]', email_address)[-1:]\n",
    "            "
   ]
  }
 ],
 "metadata": {
  "kernelspec": {
   "display_name": "projects",
   "language": "python",
   "name": "projects"
  },
  "language_info": {
   "codemirror_mode": {
    "name": "ipython",
    "version": 3
   },
   "file_extension": ".py",
   "mimetype": "text/x-python",
   "name": "python",
   "nbconvert_exporter": "python",
   "pygments_lexer": "ipython3",
   "version": "3.10.9"
  }
 },
 "nbformat": 4,
 "nbformat_minor": 5
}
