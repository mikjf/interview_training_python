{
 "cells": [
  {
   "cell_type": "markdown",
   "id": "a80fd2e1-58df-4a3e-88e4-4a94feaff7c7",
   "metadata": {},
   "source": [
    "# E-mail and password validation"
   ]
  },
  {
   "cell_type": "markdown",
   "id": "fcf153f2-598c-4422-ba40-3fc0ef58ca5c",
   "metadata": {},
   "source": [
    "## 1. E-mail validation with correct formatting function"
   ]
  },
  {
   "cell_type": "markdown",
   "id": "44539940-7f51-48cb-812c-239e241a537b",
   "metadata": {},
   "source": [
    "Create an e-mail validation function that checks if a valid e-mail is inserted without exceptions."
   ]
  },
  {
   "cell_type": "code",
   "execution_count": 1,
   "id": "69032868-1286-4ef8-b478-062dd4f2da55",
   "metadata": {},
   "outputs": [
    {
     "name": "stdin",
     "output_type": "stream",
     "text": [
      "Please enter your e-mail address. yolo@gmail.com\n"
     ]
    },
    {
     "name": "stdout",
     "output_type": "stream",
     "text": [
      "Valid e-mail address\n"
     ]
    }
   ],
   "source": [
    "# import regular expression package\n",
    "import re\n",
    "\n",
    "email_address = input('Please enter your e-mail address.')\n",
    "\n",
    "# check if @ is present\n",
    "if '@' in email_address:\n",
    "    \n",
    "    # check if content before @:\n",
    "    if len(email_address.rsplit('@')[0]) > 0:\n",
    "        \n",
    "        # check if no special charactes is directly one after the other:\n",
    "        if re.search('[^a-zA-Z\\d][^a-zA-Z\\d]+', email_address):\n",
    "            print('No valid e-mail address')\n",
    "        else:\n",
    "            email_end = re.split('[.]', email_address)[-1:]\n",
    "            if len(email_end[0]) >= 2 and len(email_end[0]) < 4:\n",
    "                print('Valid e-mail address')\n",
    "            else:\n",
    "                print('No valid e-mail address')\n",
    "    else:\n",
    "        print('No valid e-mail address')\n",
    "else:\n",
    "    print('No valid e-mail address')"
   ]
  },
  {
   "cell_type": "code",
   "execution_count": 5,
   "id": "e0f248c7-7907-479d-b288-a20dee4fd056",
   "metadata": {},
   "outputs": [
    {
     "name": "stdin",
     "output_type": "stream",
     "text": [
      "Please enter your e-mail address. yolo@gmail.com\n"
     ]
    },
    {
     "data": {
      "text/plain": [
       "True"
      ]
     },
     "execution_count": 5,
     "metadata": {},
     "output_type": "execute_result"
    }
   ],
   "source": [
    "# alternative for e-mail validation implementation\n",
    "import re\n",
    "\n",
    "def email_validation(email):\n",
    "    # [\\w\\-_.] -> any word character and -/_/.\n",
    "    # @([\\w\\-]+.) -> @ and any word character with - allowed and . at the end\n",
    "    # (\\.[a-z]{2,4}) -> between 2 and 4 of any a-z case sensitive characters\n",
    "    # $ -> end of the string\n",
    "    # re.IGNORECASE -> search modifier to perform a non case sensitive search\n",
    "    if re.match(\"[\\w\\-_.]+@([\\w\\-]+.)+(\\.[a-z]{2,4})$\",email,re.IGNORECASE):\n",
    "        return True\n",
    "    else:\n",
    "        return False\n",
    "\n",
    "email_validation(input ('Please enter your e-mail address.'))"
   ]
  },
  {
   "cell_type": "markdown",
   "id": "3fbf61d7-4a83-4c45-a9cf-5554f9c3d2b1",
   "metadata": {},
   "source": [
    "## 2. Password validation"
   ]
  },
  {
   "cell_type": "markdown",
   "id": "52605325-713c-4ce9-9ca6-ee3bb673270f",
   "metadata": {},
   "source": [
    "Create a password function with at least one lowercase letter, one uppercase letter, one digit and one symbol from [$#/\\@*]."
   ]
  },
  {
   "cell_type": "code",
   "execution_count": 8,
   "id": "8841e2ba-9f16-483e-8203-303c1bb98471",
   "metadata": {},
   "outputs": [
    {
     "name": "stdin",
     "output_type": "stream",
     "text": [
      "Enter your password: ········\n"
     ]
    },
    {
     "name": "stdout",
     "output_type": "stream",
     "text": [
      "Password valid.\n"
     ]
    }
   ],
   "source": [
    "# import regular expression package\n",
    "import re\n",
    "\n",
    "# prompt user for a password\n",
    "import getpass as gp\n",
    "\n",
    "# password input\n",
    "pwd = gp.getpass('Enter your password:')\n",
    "\n",
    "# create password validation function\n",
    "def password_validation(pwd):\n",
    "    symbol_pattern = '[$#/\\@*]'\n",
    "    char_split = list(pwd)\n",
    "    \n",
    "    # create initial conditions\n",
    "    condition_upper = False\n",
    "    condition_lower = False\n",
    "    condition_digit = False\n",
    "    condition_symbol = False\n",
    "    \n",
    "    # condition switchers\n",
    "    for char in char_split:\n",
    "        if char.isupper():\n",
    "            condition_upper = True\n",
    "        elif char.islower():\n",
    "            condition_lower = True\n",
    "        elif re.match('[0-9]', char):\n",
    "            condition_digit = True\n",
    "        elif re.match(symbol_pattern, char):\n",
    "            condition_symbol = True\n",
    "        else:\n",
    "            continue\n",
    "    \n",
    "    # all conditions true checker\n",
    "    if condition_upper == True and condition_lower == True and condition_digit == True and condition_symbol == True:\n",
    "        return 'Password valid.'\n",
    "    else:\n",
    "        return 'Password invalid.'\n",
    "    \n",
    "print(password_validation(pwd))"
   ]
  },
  {
   "cell_type": "code",
   "execution_count": 1,
   "id": "2e7ae5cb-b492-42ed-8748-ac7270ce5f33",
   "metadata": {},
   "outputs": [
    {
     "name": "stdin",
     "output_type": "stream",
     "text": [
      "Please type again your password: aA1$\n"
     ]
    },
    {
     "name": "stdout",
     "output_type": "stream",
     "text": [
      "Your password has been validated succesfully.\n"
     ]
    }
   ],
   "source": [
    "# alternative for password validation implementation\n",
    "\n",
    "# create password validation function\n",
    "def password_validation(password):\n",
    "    \n",
    "    # import regex\n",
    "    import re\n",
    "    \n",
    "    # condition upper present\n",
    "    a = re.search(\"[A-Z]+\",password)\n",
    "    \n",
    "    # condition lower present\n",
    "    b = re.search(\"[a-z]+\",password)\n",
    "    \n",
    "    # condition symbol present\n",
    "    c = re.search(\"[$#/\\@*]+\",password)\n",
    "    \n",
    "    # condition digit present\n",
    "    d = re.search(\"[0-9]+\",password)\n",
    "    \n",
    "    # all conditions present at once\n",
    "    #e = re.match(\"\\A[A-Za-z0-9$#/\\@*]+\\Z\",password)\n",
    "\n",
    "    if a and b and c and d: #and e:\n",
    "        print('Your password has been validated succesfully.') \n",
    "    else:\n",
    "        \n",
    "        print(\"\"\"Error: wrong password. Please ensure that you met all the criteria: at least \n",
    "                    - one lowercase letter\n",
    "                    - one uppercase letter\n",
    "                    - one digit \n",
    "                    - one symbol from $#/\\@*\n",
    "                and no other characters was used\"\"\")\n",
    "        \n",
    "        \n",
    "password_validation(input(\"Please type again your password:\"))"
   ]
  },
  {
   "cell_type": "code",
   "execution_count": null,
   "id": "3a001f92-2dcf-4f8f-a24e-19344c4164a9",
   "metadata": {},
   "outputs": [],
   "source": []
  }
 ],
 "metadata": {
  "kernelspec": {
   "display_name": "projects",
   "language": "python",
   "name": "projects"
  },
  "language_info": {
   "codemirror_mode": {
    "name": "ipython",
    "version": 3
   },
   "file_extension": ".py",
   "mimetype": "text/x-python",
   "name": "python",
   "nbconvert_exporter": "python",
   "pygments_lexer": "ipython3",
   "version": "3.10.9"
  }
 },
 "nbformat": 4,
 "nbformat_minor": 5
}
