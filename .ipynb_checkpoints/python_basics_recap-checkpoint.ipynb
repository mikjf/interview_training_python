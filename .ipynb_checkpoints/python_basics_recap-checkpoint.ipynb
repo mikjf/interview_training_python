{
 "cells": [
  {
   "cell_type": "markdown",
   "id": "234cc45d-6148-4cfc-a43d-1d8ed825a8ce",
   "metadata": {},
   "source": [
    "# Python Basics Recap"
   ]
  },
  {
   "cell_type": "markdown",
   "id": "cc285563-b873-4a6e-83ed-c1da5baca6c4",
   "metadata": {},
   "source": [
    "## 1. Lists"
   ]
  },
  {
   "cell_type": "code",
   "execution_count": 1,
   "id": "f8b54caa-e2e5-4f0e-acb6-7af28571c123",
   "metadata": {},
   "outputs": [
    {
     "name": "stdout",
     "output_type": "stream",
     "text": [
      "Mik F is learning.\n"
     ]
    }
   ],
   "source": [
    "# store and print variables\n",
    "first_name = \"Mik\"\n",
    "last_name = \"F\"\n",
    "\n",
    "print(first_name, last_name, \"is learning.\")"
   ]
  },
  {
   "cell_type": "code",
   "execution_count": 2,
   "id": "ced1f8bf-cf5d-4d20-9bbd-b494306b4522",
   "metadata": {},
   "outputs": [
    {
     "name": "stdout",
     "output_type": "stream",
     "text": [
      "My name is Mik F and I am not 78 years old.\n"
     ]
    }
   ],
   "source": [
    "# store values in a list and print\n",
    "myself = ['Mik', 'F', 78]\n",
    "\n",
    "print('My name is', myself[0], myself[1], 'and I am not', myself[-1], 'years old.')"
   ]
  },
  {
   "cell_type": "code",
   "execution_count": 17,
   "id": "2a65b559-51cc-4dda-b176-29f5d9e0d5bb",
   "metadata": {},
   "outputs": [
    {
     "name": "stdout",
     "output_type": "stream",
     "text": [
      "3\n",
      "['data analyst', 'data scientist', 'engineer', 'ux/ui designer', 'developer', 'BI specialist']\n",
      "ux/ui designer\n",
      "engineer\n",
      "developer\n",
      "data scientist\n",
      "data analyst\n",
      "BI specialist\n"
     ]
    }
   ],
   "source": [
    "# create a list of jobs\n",
    "jobs = ['data scientist', 'engineer', 'ux/ui designer', 'developer']\n",
    "\n",
    "# index of specific job\n",
    "print(jobs.index('developer'))\n",
    "\n",
    "# append a job and insert another job at the beginning\n",
    "jobs.append('BI specialist')\n",
    "jobs.insert(0, 'data analyst')\n",
    "print(jobs)\n",
    "\n",
    "# print list in sorted reversed alphabetical order\n",
    "for job in sorted(jobs, reverse=True):\n",
    "    print(job)"
   ]
  },
  {
   "cell_type": "markdown",
   "id": "d456e1ba-dd69-468a-909d-3641f151c780",
   "metadata": {},
   "source": [
    "## 2. Slicing"
   ]
  },
  {
   "cell_type": "code",
   "execution_count": 20,
   "id": "d4257536-f8ce-4a46-87ae-b5394aab1416",
   "metadata": {},
   "outputs": [],
   "source": [
    "# create a list of numbers\n",
    "numbers = [1, 2, 3, 4, 5, 6, 7, 8, 9, 10]"
   ]
  },
  {
   "cell_type": "code",
   "execution_count": 24,
   "id": "5b2861f5-75ba-4deb-bfa1-531cf102faeb",
   "metadata": {},
   "outputs": [
    {
     "name": "stdout",
     "output_type": "stream",
     "text": [
      "[3, 4]\n",
      "[8, 9, 10]\n"
     ]
    }
   ],
   "source": [
    "# print third and forth number\n",
    "print(numbers[2:4])\n",
    "\n",
    "# print last three numbers\n",
    "print(numbers[-3:])"
   ]
  },
  {
   "cell_type": "markdown",
   "id": "9647649d-53bd-4e73-b6b5-47867a0c7847",
   "metadata": {},
   "source": [
    "## 3. Multiples"
   ]
  },
  {
   "cell_type": "code",
   "execution_count": 28,
   "id": "55f5cfd7-6eb3-480e-a206-d5ea556f0ada",
   "metadata": {},
   "outputs": [
    {
     "name": "stdout",
     "output_type": "stream",
     "text": [
      "[10, 20, 30, 40, 50, 60, 70, 80, 90, 100]\n"
     ]
    }
   ],
   "source": [
    "# list of multiples of tens\n",
    "list_of_multiples = [x * 10 for x in range(1, 11)]\n",
    "\n",
    "print(list_of_multiples)"
   ]
  },
  {
   "cell_type": "markdown",
   "id": "c211f21b-da58-4b71-8005-a4b0c141a6ac",
   "metadata": {},
   "source": [
    "## 4. Tuples"
   ]
  },
  {
   "cell_type": "code",
   "execution_count": 29,
   "id": "595ec3f2-a278-48af-97b2-1006f6ed84ed",
   "metadata": {},
   "outputs": [
    {
     "name": "stdout",
     "output_type": "stream",
     "text": [
      "Lowest score possible: 1\n",
      "Highest score possible: 10\n"
     ]
    }
   ],
   "source": [
    "# possible scores for diving contest\n",
    "scores = (1, 2, 3, 4, 5, 6, 7, 8, 9, 10)\n",
    "\n",
    "# print lowest and highest possible score\n",
    "print('Lowest score possible:', scores[0])\n",
    "print('Highest score possible:', scores[-1])"
   ]
  },
  {
   "cell_type": "code",
   "execution_count": 31,
   "id": "379a7681-3cdf-452d-a345-c8a222cf1fdc",
   "metadata": {},
   "outputs": [
    {
     "name": "stdout",
     "output_type": "stream",
     "text": [
      "The judge can assign to the dive a score of 1 point\n",
      "The judge can assign to the dive a score of 2 points\n",
      "The judge can assign to the dive a score of 3 points\n",
      "The judge can assign to the dive a score of 4 points\n",
      "The judge can assign to the dive a score of 5 points\n",
      "The judge can assign to the dive a score of 6 points\n",
      "The judge can assign to the dive a score of 7 points\n",
      "The judge can assign to the dive a score of 8 points\n",
      "The judge can assign to the dive a score of 9 points\n",
      "The judge can assign to the dive a score of 10 points\n"
     ]
    }
   ],
   "source": [
    "# print a list of all potential scores that the judge can assign to a dive\n",
    "for score in scores:\n",
    "    if score == 1:\n",
    "        print('%s %d %s' % ('The judge can assign to the dive a score of', score, 'point'))\n",
    "    else:\n",
    "        print('%s %d %s' % ('The judge can assign to the dive a score of', score, 'points'))"
   ]
  },
  {
   "cell_type": "markdown",
   "id": "ba7ec9a5-32d5-45f3-a7bc-3c47e0f4f30d",
   "metadata": {},
   "source": [
    "## 5. Unix timestamps conversion"
   ]
  },
  {
   "cell_type": "code",
   "execution_count": 34,
   "id": "0cae7275-bc73-46e8-804d-e4b0d68f12ca",
   "metadata": {},
   "outputs": [
    {
     "name": "stdout",
     "output_type": "stream",
     "text": [
      "00 hour(s) 54 minute(s) 47 second(s)\n"
     ]
    }
   ],
   "source": [
    "# import time package\n",
    "import time\n",
    "\n",
    "# UNIX timestamps\n",
    "time1 = 1493565419\n",
    "time2 = 1493562132\n",
    "\n",
    "duration = time1 - time2\n",
    "\n",
    "# time.strftime -> converts a tuple or struct_time representing a time to a string as specified by the format argument)\n",
    "# time.gmtime -> converts time expressed in seconds since the epoch to a struct_time in UTC\n",
    "print(time.strftime('%H hour(s) %M minute(s) %S second(s)', time.gmtime(duration)))"
   ]
  },
  {
   "cell_type": "markdown",
   "id": "175a9a56-def7-449e-8c8b-4f7ddb64c746",
   "metadata": {},
   "source": [
    "## 6. Words and anagrams"
   ]
  },
  {
   "cell_type": "code",
   "execution_count": 38,
   "id": "bcef5d8c-00a0-495c-8b23-4c66afdf55d7",
   "metadata": {},
   "outputs": [
    {
     "name": "stdout",
     "output_type": "stream",
     "text": [
      "is is in this\n",
      "his is in this\n",
      "is is in tennis\n",
      "is is in his\n"
     ]
    }
   ],
   "source": [
    "# print which words appear within which other words for any string\n",
    "string = \"This is the best tennis racquet and it's his\"\n",
    "\n",
    "# lower case and split each word in the string\n",
    "words = string.lower().split()\n",
    "\n",
    "# checking for subwords for each word in the string (double loop)\n",
    "for word in words:\n",
    "    for sub_word in words:\n",
    "        if sub_word in word and sub_word != word:\n",
    "            print(str(sub_word) + ' is in ' + str(word))"
   ]
  },
  {
   "cell_type": "code",
   "execution_count": 42,
   "id": "e5671d7d-10de-49de-b6e1-551ba782f708",
   "metadata": {},
   "outputs": [
    {
     "name": "stdout",
     "output_type": "stream",
     "text": [
      "silent is an anagram of listen\n",
      "listen is an anagram of silent\n"
     ]
    }
   ],
   "source": [
    "# print words that are an anagram of another word\n",
    "string = 'How can you listen if you are not silent?'\n",
    "\n",
    "# remove ? and lower case split\n",
    "words = string.replace('?','').lower().split()\n",
    "\n",
    "for word in words:\n",
    "    for sub_word in words:\n",
    "        # sorted() to break word into individual letteres in alphabetical order\n",
    "        if sorted(sub_word) == sorted(word) and word != sub_word:\n",
    "            # prints the original sub_word and word not sorted() from the list\n",
    "            print(str(sub_word) + ' is an anagram of ' + str(word))"
   ]
  },
  {
   "cell_type": "code",
   "execution_count": 50,
   "id": "6458b3f7-d150-43cf-b164-5139eb4d527f",
   "metadata": {},
   "outputs": [
    {
     "name": "stdout",
     "output_type": "stream",
     "text": [
      "['ayo', 'aoy', 'yao', 'yoa', 'oay', 'oya']\n"
     ]
    }
   ],
   "source": [
    "# all anagrams of a single word (iterations)\n",
    "import itertools\n",
    "\n",
    "word = 'ayo'\n",
    "\n",
    "def all_anagrams(word):\n",
    "    tup_list = list(itertools.permutations(word))\n",
    "    str_list = [''.join((tup)) for tup in tup_list]\n",
    "    return str_list\n",
    "\n",
    "print(all_anagrams(word))"
   ]
  }
 ],
 "metadata": {
  "kernelspec": {
   "display_name": "projects",
   "language": "python",
   "name": "projects"
  },
  "language_info": {
   "codemirror_mode": {
    "name": "ipython",
    "version": 3
   },
   "file_extension": ".py",
   "mimetype": "text/x-python",
   "name": "python",
   "nbconvert_exporter": "python",
   "pygments_lexer": "ipython3",
   "version": "3.10.9"
  }
 },
 "nbformat": 4,
 "nbformat_minor": 5
}
