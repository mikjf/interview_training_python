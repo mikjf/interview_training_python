{
 "cells": [
  {
   "cell_type": "markdown",
   "id": "afdb11a1-0c7c-426d-85c1-b44487c13ce9",
   "metadata": {},
   "source": [
    "# Python Intermediate Recap"
   ]
  },
  {
   "cell_type": "markdown",
   "id": "d4909280-ae13-42ec-a22b-d0aba251f762",
   "metadata": {},
   "source": [
    "## 1. Counting DNA nucleotides"
   ]
  },
  {
   "cell_type": "code",
   "execution_count": 15,
   "id": "c5e377a1-6669-4202-aed9-66f9eaedbbc7",
   "metadata": {},
   "outputs": [
    {
     "name": "stdout",
     "output_type": "stream",
     "text": [
      "A: 254 C: 251 G: 240 T 255\n",
      "GCUUCACCAUUACCACUUGAACAGUUUAGGAUGGCUGCUACGCUACCGAUGUCUCCCGGGUGGUUAACUGUAGAAAAAUCGAAAAUGAGUCGAUUUUGUUUCAAAUCGUGCGUCACUACAGCUUAAAGAAGUUUCCCGAGAUUUCAGAUGUUUUUGUGCAGUAAAUGGCCCUUCAGUCUGAUGACCAAUUUAUAAAUUCAAGUUCAGGUACAGAUACAUGUGAAGGUACGAACUGUAGAUGUAUGUCGUUAAGUCGGCCCAUUAAUGUCGCCCGCCAUCAUCUGGUUUUCACGUACCCCGCCGAUGAGUAACCGGGGUACGGGACAGUGUGGAAGCCACGCCUCAUUUCGCUUCACCGACGGGAAGUGAUAUCAGGCCAGGGAUGGAACACGGCGGGAUAAGCACCCUGUUUCGAUUACCCUCUAGCGAAUCAAACAAGGAUUUUAUCUGCUCUGGUGUGUUCGCGGAGUCAAAACGACGUCACAUGCAUCUGCCAGUGAAACAAGUGCGGUUCACAUCUAUUCACAAUUUUAGGUGAGCUAAAGCGGAAAUAACCCAUGCUACAUAGGACUGCCGUCGUUAUGUCGCGUAAAGUCACGCUUUGAUGCAAGUGCGCAGAGGUUUGUGCUGCACUAAAGAAGAAAUCCACGUCGGGUCGACACUAAUGCUGGGCAGGUCUCAGCUUACGCUGUUAGAUGGCUUCUACCUCGGGCUGAUAUCCAACUGCAGGCCGCCUGUCGGUGCGUGAGUGGUGUUACCAGGUAGUCUAGGGUAUUGUCGGGACGCGCGUUGGGAAAAAGACGCUUGAGUUGAAUCGCCCUCAUGUAUCUAUAAAGCGCCCUAAAGGGGCGUAUACACCAAAUUAAUAUCGGUUAGUGCCCAAGUCCCGAGCAAGGCGGAGAGUCCCCGCGUGGUUCCGUGAUCUGCUUAGAGCAGGGUUAACGAGCUCUGGUAUUGAAUCCUUAUAGGGCCAUCUUUCUGGCAAGUUAUUUGAAUAGCG\n"
     ]
    }
   ],
   "source": [
    "# import numpy for computing\n",
    "import numpy as np\n",
    "\n",
    "# create list of bases\n",
    "bases = ('A', 'C', 'G', 'T')\n",
    "\n",
    "# dna string generator length function\n",
    "def dna_string_generator(length):\n",
    "    s = [''.join(np.random.choice(bases)) for _ in range(length)]\n",
    "    return ''.join(s)\n",
    "\n",
    "# count each time a symbol occurs in the string\n",
    "def nucleotid_counter(s):\n",
    "    return 'A: {} C: {} G: {} T {}'.format(s.count('A'), s.count('C'), s.count('G'), s.count('T'))\n",
    "\n",
    "s = dna_string_generator(1000)\n",
    "print(nucleotid_counter(s))\n",
    "\n",
    "# transcribe DNA into RNA with regex package\n",
    "import re\n",
    "\n",
    "def rna_transcriber(t):\n",
    "    # re.sub -> substitute T with U for variable t\n",
    "    return re.sub('T', 'U', t)\n",
    "\n",
    "t = dna_string_generator(1000)\n",
    "print(rna_transcriber(t))"
   ]
  },
  {
   "cell_type": "markdown",
   "id": "5f45e1b5-283d-404e-91bf-7d2180308064",
   "metadata": {},
   "source": [
    "## 2. Number to text"
   ]
  },
  {
   "cell_type": "code",
   "execution_count": 19,
   "id": "dce52879-f247-4bc3-b43f-0bc5a7b59f38",
   "metadata": {},
   "outputs": [],
   "source": [
    "# create function with text numbers\n",
    "def write_number(num):\n",
    "    digits = ['', 'one', 'two', 'three', 'four', 'five', 'six', 'seven', 'eight', 'nine', 'ten']\n",
    "    tens = ['', '', 'twenty', 'thirty', 'fourty', 'fifty', 'sixty', 'seventy', 'eighty', 'ninety']\n",
    "    lower_20 = digits + ['eleven', 'twelve', 'thirteen', 'fourteen', 'fifteen', 'sixteen', 'seventeen', 'eighteen', 'nineteen']\n",
    "    \n",
    "    # 0\n",
    "    if num == 0:\n",
    "        return 'zero'\n",
    "    \n",
    "    # 1-19\n",
    "    elif num >= 0 and num < 20:\n",
    "        return lower_20[num]\n",
    "    \n",
    "    # 20-99\n",
    "    elif num < 100:\n",
    "        # upper digit\n",
    "        upper = tens[num // 10]\n",
    "        # lower digit remainer of 10\n",
    "        lower = digits[num % 10]\n",
    "        \n",
    "        if lower:\n",
    "            return upper + '-' + lower\n",
    "        else:\n",
    "            return upper\n",
    "        \n",
    "    else:\n",
    "        return 'Number not in 0-99 range'"
   ]
  },
  {
   "cell_type": "code",
   "execution_count": 22,
   "id": "fc049019-ecaf-48c6-9d97-a60b32326d70",
   "metadata": {},
   "outputs": [
    {
     "name": "stdout",
     "output_type": "stream",
     "text": [
      "zero\n",
      "five\n",
      "eleven\n",
      "nineteen\n",
      "twenty\n",
      "twenty-one\n",
      "thirty-three\n",
      "fourty\n",
      "ninety-nine\n",
      "Number not in 0-99 range\n"
     ]
    }
   ],
   "source": [
    "print(write_number(0))\n",
    "print(write_number(5))\n",
    "print(write_number(11))\n",
    "print(write_number(19))\n",
    "print(write_number(20))\n",
    "print(write_number(21))\n",
    "print(write_number(33))\n",
    "print(write_number(40))\n",
    "print(write_number(99))\n",
    "print(write_number(101))"
   ]
  },
  {
   "cell_type": "markdown",
   "id": "b9a57ff3-ef28-41a9-bf64-b9d638d1b9ff",
   "metadata": {},
   "source": [
    "## 3. Split the bill"
   ]
  },
  {
   "cell_type": "code",
   "execution_count": 23,
   "id": "6a2458f3-b184-4b18-aecc-badafeded4cc",
   "metadata": {},
   "outputs": [],
   "source": [
    "# create output function\n",
    "def split_the_bill(obj):\n",
    "    \n",
    "    # inital empty output\n",
    "    output = {}\n",
    "    \n",
    "    # average variable definition\n",
    "    average = sum(obj.values()) / len(obj)\n",
    "    \n",
    "    for key, value in obj.items():\n",
    "        output[key] = round(average-value)\n",
    "        \n",
    "    return output"
   ]
  },
  {
   "cell_type": "code",
   "execution_count": 24,
   "id": "30a06153-ef42-406d-9e06-a20dba53d080",
   "metadata": {},
   "outputs": [
    {
     "name": "stdout",
     "output_type": "stream",
     "text": [
      "{'Mik': 0, 'Andrea': -5, 'Christopher': 5}\n"
     ]
    }
   ],
   "source": [
    "# sample group\n",
    "group = {'Mik': 15,\n",
    "         'Andrea': 20,\n",
    "         'Christopher': 10}\n",
    "\n",
    "# split_the_bill\n",
    "print(split_the_bill(group))"
   ]
  }
 ],
 "metadata": {
  "kernelspec": {
   "display_name": "projects",
   "language": "python",
   "name": "projects"
  },
  "language_info": {
   "codemirror_mode": {
    "name": "ipython",
    "version": 3
   },
   "file_extension": ".py",
   "mimetype": "text/x-python",
   "name": "python",
   "nbconvert_exporter": "python",
   "pygments_lexer": "ipython3",
   "version": "3.10.9"
  }
 },
 "nbformat": 4,
 "nbformat_minor": 5
}
