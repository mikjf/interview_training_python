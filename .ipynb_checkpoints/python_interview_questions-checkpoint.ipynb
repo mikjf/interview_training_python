{
 "cells": [
  {
   "cell_type": "markdown",
   "id": "d7b7c165-dcb8-4df6-983a-ac168acc492d",
   "metadata": {},
   "source": [
    "# Python Interview Questions"
   ]
  },
  {
   "cell_type": "code",
   "execution_count": 1,
   "id": "e9469f25-b0af-4e37-aa67-c70fbd1e66b9",
   "metadata": {},
   "outputs": [
    {
     "name": "stdout",
     "output_type": "stream",
     "text": [
      "Requirement already satisfied: nb_black in /opt/anaconda3/envs/projects/lib/python3.10/site-packages (1.0.7)\n",
      "Requirement already satisfied: black>='19.3' in /opt/anaconda3/envs/projects/lib/python3.10/site-packages (from nb_black) (23.1.0)\n",
      "Requirement already satisfied: ipython in /opt/anaconda3/envs/projects/lib/python3.10/site-packages (from nb_black) (8.3.0)\n",
      "Requirement already satisfied: mypy-extensions>=0.4.3 in /opt/anaconda3/envs/projects/lib/python3.10/site-packages (from black>='19.3'->nb_black) (1.0.0)\n",
      "Requirement already satisfied: packaging>=22.0 in /opt/anaconda3/envs/projects/lib/python3.10/site-packages (from black>='19.3'->nb_black) (23.0)\n",
      "Requirement already satisfied: pathspec>=0.9.0 in /opt/anaconda3/envs/projects/lib/python3.10/site-packages (from black>='19.3'->nb_black) (0.11.0)\n",
      "Requirement already satisfied: click>=8.0.0 in /opt/anaconda3/envs/projects/lib/python3.10/site-packages (from black>='19.3'->nb_black) (8.1.3)\n",
      "Requirement already satisfied: platformdirs>=2 in /opt/anaconda3/envs/projects/lib/python3.10/site-packages (from black>='19.3'->nb_black) (3.1.1)\n",
      "Requirement already satisfied: tomli>=1.1.0 in /opt/anaconda3/envs/projects/lib/python3.10/site-packages (from black>='19.3'->nb_black) (2.0.1)\n",
      "Requirement already satisfied: matplotlib-inline in /opt/anaconda3/envs/projects/lib/python3.10/site-packages (from ipython->nb_black) (0.1.2)\n",
      "Requirement already satisfied: traitlets>=5 in /opt/anaconda3/envs/projects/lib/python3.10/site-packages (from ipython->nb_black) (5.1.1)\n",
      "Requirement already satisfied: jedi>=0.16 in /opt/anaconda3/envs/projects/lib/python3.10/site-packages (from ipython->nb_black) (0.18.1)\n",
      "Requirement already satisfied: setuptools>=18.5 in /opt/anaconda3/envs/projects/lib/python3.10/site-packages (from ipython->nb_black) (65.6.3)\n",
      "Requirement already satisfied: backcall in /opt/anaconda3/envs/projects/lib/python3.10/site-packages (from ipython->nb_black) (0.2.0)\n",
      "Requirement already satisfied: prompt-toolkit!=3.0.0,!=3.0.1,<3.1.0,>=2.0.0 in /opt/anaconda3/envs/projects/lib/python3.10/site-packages (from ipython->nb_black) (3.0.20)\n",
      "Requirement already satisfied: appnope in /opt/anaconda3/envs/projects/lib/python3.10/site-packages (from ipython->nb_black) (0.1.2)\n",
      "Requirement already satisfied: decorator in /opt/anaconda3/envs/projects/lib/python3.10/site-packages (from ipython->nb_black) (5.1.1)\n",
      "Requirement already satisfied: stack-data in /opt/anaconda3/envs/projects/lib/python3.10/site-packages (from ipython->nb_black) (0.2.0)\n",
      "Requirement already satisfied: pygments>=2.4.0 in /opt/anaconda3/envs/projects/lib/python3.10/site-packages (from ipython->nb_black) (2.11.2)\n",
      "Requirement already satisfied: pickleshare in /opt/anaconda3/envs/projects/lib/python3.10/site-packages (from ipython->nb_black) (0.7.5)\n",
      "Requirement already satisfied: pexpect>4.3 in /opt/anaconda3/envs/projects/lib/python3.10/site-packages (from ipython->nb_black) (4.8.0)\n",
      "Requirement already satisfied: parso<0.9.0,>=0.8.0 in /opt/anaconda3/envs/projects/lib/python3.10/site-packages (from jedi>=0.16->ipython->nb_black) (0.8.3)\n",
      "Requirement already satisfied: ptyprocess>=0.5 in /opt/anaconda3/envs/projects/lib/python3.10/site-packages (from pexpect>4.3->ipython->nb_black) (0.7.0)\n",
      "Requirement already satisfied: wcwidth in /opt/anaconda3/envs/projects/lib/python3.10/site-packages (from prompt-toolkit!=3.0.0,!=3.0.1,<3.1.0,>=2.0.0->ipython->nb_black) (0.2.5)\n",
      "Requirement already satisfied: pure-eval in /opt/anaconda3/envs/projects/lib/python3.10/site-packages (from stack-data->ipython->nb_black) (0.2.2)\n",
      "Requirement already satisfied: executing in /opt/anaconda3/envs/projects/lib/python3.10/site-packages (from stack-data->ipython->nb_black) (0.8.3)\n",
      "Requirement already satisfied: asttokens in /opt/anaconda3/envs/projects/lib/python3.10/site-packages (from stack-data->ipython->nb_black) (2.0.5)\n",
      "Requirement already satisfied: six in /opt/anaconda3/envs/projects/lib/python3.10/site-packages (from asttokens->stack-data->ipython->nb_black) (1.16.0)\n"
     ]
    }
   ],
   "source": [
    "# extension to help clean python code\n",
    "!pip install nb_black"
   ]
  },
  {
   "cell_type": "code",
   "execution_count": 2,
   "id": "699cfc4d-ef5f-466b-8587-3a42c59184cd",
   "metadata": {},
   "outputs": [],
   "source": [
    "# check if lab_black is loaded\n",
    "%load_ext lab_black"
   ]
  },
  {
   "cell_type": "markdown",
   "id": "22a92ba7-62d1-4259-b8fb-6014e03e8369",
   "metadata": {},
   "source": [
    "## 1. Stock prices: buy or sell"
   ]
  },
  {
   "cell_type": "markdown",
   "id": "fbffab38-a3a8-4da4-8695-f6387e8d2945",
   "metadata": {},
   "source": [
    "### 1.1 Buy / sell (method 1)"
   ]
  },
  {
   "cell_type": "markdown",
   "id": "78856cee-8edf-470c-8f1e-1324e71690e8",
   "metadata": {},
   "source": [
    "Write a function that outputs the maximum profits buy buying and selling at a specific interval.\n",
    "- input : stock_price = [10,5,20,32,25,12]\n",
    "- output: get_max_profit(stock_prices) -> 27"
   ]
  },
  {
   "cell_type": "code",
   "execution_count": 3,
   "id": "5519f6cc-662c-481d-ad27-5acb0cbf0b7c",
   "metadata": {},
   "outputs": [],
   "source": [
    "# function to get maximum profit\n",
    "def get_max_profit(input_list):\n",
    "    # size of the list\n",
    "    size = len(input_list)\n",
    "\n",
    "    # variables\n",
    "    max_profit = input_list[1] - input_list[0]\n",
    "    min_value = input_list[0]\n",
    "\n",
    "    # for each stock price in the list\n",
    "    for i in range(1, size):\n",
    "        # if new value in the list - current min_value is higher then current profit, keep it as max_profit\n",
    "        if input_list[i] - min_value > max_profit:\n",
    "            max_profit = input_list[i] - min_value\n",
    "\n",
    "        # if new value is lower then current min_value, become the new min_value\n",
    "        if input_list[i] < min_value:\n",
    "            min_value = input_list[i]\n",
    "\n",
    "    print(\"Our maximum profit is %s\" % max_profit)\n",
    "    return max_profit"
   ]
  },
  {
   "cell_type": "code",
   "execution_count": 4,
   "id": "44ff7840-9cc4-4635-9b04-b47bd50dc074",
   "metadata": {},
   "outputs": [
    {
     "name": "stdout",
     "output_type": "stream",
     "text": [
      "Our maximum profit is 27\n"
     ]
    },
    {
     "data": {
      "text/plain": [
       "27"
      ]
     },
     "execution_count": 4,
     "metadata": {},
     "output_type": "execute_result"
    }
   ],
   "source": [
    "stock_price = [10, 20, 5, 32, 25, 12]\n",
    "get_max_profit(stock_price)"
   ]
  },
  {
   "cell_type": "code",
   "execution_count": 5,
   "id": "2817caf8-4227-475a-812a-d51cd87fa5a7",
   "metadata": {},
   "outputs": [
    {
     "name": "stdout",
     "output_type": "stream",
     "text": [
      "Our maximum profit is 22\n"
     ]
    },
    {
     "data": {
      "text/plain": [
       "22"
      ]
     },
     "execution_count": 5,
     "metadata": {},
     "output_type": "execute_result"
    }
   ],
   "source": [
    "# double checking with other another stock price list\n",
    "stock_price = [10, 20, 32, 5, 25, 12]\n",
    "get_max_profit(stock_price)"
   ]
  },
  {
   "cell_type": "markdown",
   "id": "ca12ac67-643c-485c-9e0e-b94c56b1d9d7",
   "metadata": {},
   "source": [
    "### 1.2 Buy / sell (method 2)"
   ]
  },
  {
   "cell_type": "code",
   "execution_count": 6,
   "id": "6e7b001c-e14f-4017-8f7f-de6c852c84eb",
   "metadata": {},
   "outputs": [],
   "source": [
    "# alternative method\n",
    "def get_max_profit(stock_list):\n",
    "    # initial max_profit list setup\n",
    "    max_profit = [0, 0, 0]\n",
    "\n",
    "    # for every price in the list\n",
    "    for i in range(len(stock_list)):\n",
    "        # for every price after the i price in the list\n",
    "        for j in range(i + 1, len(stock_list)):\n",
    "            # profit = next day price - day price\n",
    "            profit = stock_list[j] - stock_list[i]\n",
    "\n",
    "            if profit > 0:\n",
    "                # if new max_profit higher than current profit, become new profit\n",
    "                if max_profit[2] <= profit:\n",
    "                    max_profit[0] = i + 1\n",
    "                    max_profit[1] = j + 1\n",
    "                    max_profit[2] = profit\n",
    "\n",
    "    print(\n",
    "        \"We buy on day %s and sell on day %s to get a maximum profit of %s\"\n",
    "        % (max_profit[0], max_profit[1], max_profit[2])\n",
    "    )\n",
    "\n",
    "    return max_profit[2]"
   ]
  },
  {
   "cell_type": "code",
   "execution_count": 7,
   "id": "101101cf-cc23-43ab-ae17-95b0bdc081dc",
   "metadata": {},
   "outputs": [
    {
     "name": "stdout",
     "output_type": "stream",
     "text": [
      "We buy on day 3 and sell on day 4 to get a maximum profit of 27\n"
     ]
    },
    {
     "data": {
      "text/plain": [
       "27"
      ]
     },
     "execution_count": 7,
     "metadata": {},
     "output_type": "execute_result"
    }
   ],
   "source": [
    "stock_price = [10, 20, 5, 32, 25, 12]\n",
    "get_max_profit(stock_price)"
   ]
  },
  {
   "cell_type": "code",
   "execution_count": 8,
   "id": "be0d71bd-29e5-41f2-aaf1-54d1a5ae34bb",
   "metadata": {},
   "outputs": [
    {
     "name": "stdout",
     "output_type": "stream",
     "text": [
      "We buy on day 1 and sell on day 3 to get a maximum profit of 22\n"
     ]
    },
    {
     "data": {
      "text/plain": [
       "22"
      ]
     },
     "execution_count": 8,
     "metadata": {},
     "output_type": "execute_result"
    }
   ],
   "source": [
    "stock_price = [10, 20, 32, 5, 25, 12]\n",
    "get_max_profit(stock_price)"
   ]
  },
  {
   "cell_type": "markdown",
   "id": "91a31b1b-2b2b-4eb4-bb4b-5c8f4c060fd6",
   "metadata": {},
   "source": [
    "### 1.3 Datetime complexity"
   ]
  },
  {
   "cell_type": "markdown",
   "id": "bd1252cb-3270-4a3b-b30b-e6511c0bfb1b",
   "metadata": {},
   "source": [
    "Give a list of stock prices and date times, output the profit and stard/end dates for max profit."
   ]
  },
  {
   "cell_type": "code",
   "execution_count": 9,
   "id": "9f6dc28c-2c0e-4c0a-8fb0-65f3a24b5af3",
   "metadata": {},
   "outputs": [],
   "source": [
    "# new function to get maximum profit with date times\n",
    "def get_max_profit(input_list, dates):\n",
    "    # size of the list\n",
    "    size = len(input_list)\n",
    "\n",
    "    # previous variables\n",
    "    max_profit = input_list[1] - input_list[0]\n",
    "    min_value = input_list[0]\n",
    "\n",
    "    # additional starting points\n",
    "    sell = 1\n",
    "    buy = 0\n",
    "    temp_min = 0\n",
    "\n",
    "    # for each item in the list\n",
    "    for i in range(1, size):\n",
    "        if input_list[i] - min_value > max_profit:\n",
    "            max_profit = input_list[i] - min_value\n",
    "            # save item index for the date of sell and buy\n",
    "            sell = i\n",
    "            buy = temp_min\n",
    "\n",
    "        if input_list[i] < min_value:\n",
    "            min_value = input_list[i]\n",
    "            # save item index for the date of the new min_value\n",
    "            temp_min = i\n",
    "\n",
    "    print(\n",
    "        \"Buy stock on %s and sell on %s to get a maximum profit of %s\"\n",
    "        % (dates[buy], dates[sell], max_profit)\n",
    "    )\n",
    "    return max_profit"
   ]
  },
  {
   "cell_type": "code",
   "execution_count": 10,
   "id": "786eed73-81df-4a70-aa9f-a6723373ad02",
   "metadata": {},
   "outputs": [
    {
     "name": "stdout",
     "output_type": "stream",
     "text": [
      "Buy stock on 2023-01-03 and sell on 2023-01-04 to get a maximum profit of 27\n"
     ]
    },
    {
     "data": {
      "text/plain": [
       "27"
      ]
     },
     "execution_count": 10,
     "metadata": {},
     "output_type": "execute_result"
    }
   ],
   "source": [
    "# define stock_price and dates lists\n",
    "stock_price = [10, 20, 5, 32, 25, 12]\n",
    "\n",
    "dates = [\n",
    "    \"2023-01-01\",\n",
    "    \"2023-01-02\",\n",
    "    \"2023-01-03\",\n",
    "    \"2023-01-04\",\n",
    "    \"2023-01-05\",\n",
    "    \"2023-01-06\",\n",
    "]\n",
    "\n",
    "get_max_profit(stock_price, dates)"
   ]
  },
  {
   "cell_type": "code",
   "execution_count": 11,
   "id": "e36e885d-a6b5-4771-9aa4-dc3524280a86",
   "metadata": {},
   "outputs": [],
   "source": [
    "# from alternative method from 1.2 (method 2)\n",
    "def get_max_profit(stock_list, dates):\n",
    "    max_profit = [0, 0, 0]\n",
    "\n",
    "    for i in range(len(stock_list)):\n",
    "        for j in range(i + 1, len(stock_list)):\n",
    "            profit = stock_list[j] - stock_list[i]\n",
    "            if profit > 0:\n",
    "                if max_profit[2] <= profit:\n",
    "                    # save lowest price item date\n",
    "                    max_profit[0] = dates[i + 1]\n",
    "                    # save highest price item date\n",
    "                    max_profit[1] = dates[j + 1]\n",
    "                    # save profit between the two prices for the two dates\n",
    "                    max_profit[2] = profit\n",
    "\n",
    "                # what's happening in the for loop explanation\n",
    "                print(\n",
    "                    \"Comparing %s to %s resulting in a profit of %s\"\n",
    "                    % (stock_list[i], stock_list[j], profit)\n",
    "                )\n",
    "\n",
    "    # output\n",
    "    print(\n",
    "        \"---------------------------------------------------------------------------------\"\n",
    "    )\n",
    "    print(\n",
    "        \"Buy stock on %s and sell on %s to get a maximum profit of %s\"\n",
    "        % (max_profit[0], max_profit[1], max_profit[2])\n",
    "    )\n",
    "    return max_profit"
   ]
  },
  {
   "cell_type": "code",
   "execution_count": 12,
   "id": "8aace9ab-f8b0-4bd6-b875-6193db2a4567",
   "metadata": {},
   "outputs": [
    {
     "name": "stdout",
     "output_type": "stream",
     "text": [
      "Comparing 10 to 20 resulting in a profit of 10\n",
      "Comparing 10 to 32 resulting in a profit of 22\n",
      "Comparing 10 to 25 resulting in a profit of 15\n",
      "Comparing 10 to 12 resulting in a profit of 2\n",
      "Comparing 20 to 32 resulting in a profit of 12\n",
      "Comparing 20 to 25 resulting in a profit of 5\n",
      "Comparing 5 to 32 resulting in a profit of 27\n",
      "Comparing 5 to 25 resulting in a profit of 20\n",
      "Comparing 5 to 12 resulting in a profit of 7\n",
      "---------------------------------------------------------------------------------\n",
      "Buy stock on 2023-01-04 and sell on 2023-01-05 to get a maximum profit of 27\n"
     ]
    }
   ],
   "source": [
    "# previous stock_price and dates lists\n",
    "stock_price = [10, 20, 5, 32, 25, 12]\n",
    "\n",
    "dates = [\n",
    "    \"2023-01-01\",\n",
    "    \"2023-01-02\",\n",
    "    \"2023-01-03\",\n",
    "    \"2023-01-04\",\n",
    "    \"2023-01-05\",\n",
    "    \"2023-01-06\",\n",
    "]\n",
    "\n",
    "day_to_buy, day_to_sell, profit = get_max_profit(stock_price, dates)"
   ]
  },
  {
   "cell_type": "code",
   "execution_count": 13,
   "id": "3f43c6c1-9a62-4f4e-b049-dc6da2e02112",
   "metadata": {},
   "outputs": [
    {
     "name": "stdout",
     "output_type": "stream",
     "text": [
      "Comparing 10 to 20 resulting in a profit of 10\n",
      "Comparing 10 to 32 resulting in a profit of 22\n",
      "Comparing 10 to 25 resulting in a profit of 15\n",
      "Comparing 10 to 12 resulting in a profit of 2\n",
      "Comparing 5 to 20 resulting in a profit of 15\n",
      "Comparing 5 to 32 resulting in a profit of 27\n",
      "Comparing 5 to 25 resulting in a profit of 20\n",
      "Comparing 5 to 12 resulting in a profit of 7\n",
      "Comparing 20 to 32 resulting in a profit of 12\n",
      "Comparing 20 to 25 resulting in a profit of 5\n",
      "---------------------------------------------------------------------------------\n",
      "Buy stock on 2023-01-03 and sell on 2023-01-05 to get a maximum profit of 27\n"
     ]
    }
   ],
   "source": [
    "# change stock price fluctuations\n",
    "stock_price = [10, 5, 20, 32, 25, 12]\n",
    "\n",
    "dates = [\n",
    "    \"2023-01-01\",\n",
    "    \"2023-01-02\",\n",
    "    \"2023-01-03\",\n",
    "    \"2023-01-04\",\n",
    "    \"2023-01-05\",\n",
    "    \"2023-01-06\",\n",
    "]\n",
    "\n",
    "day_to_buy, day_to_sell, profit = get_max_profit(stock_price, dates)"
   ]
  },
  {
   "cell_type": "markdown",
   "id": "8f896ecd-20a1-435c-89e0-9680aced19b1",
   "metadata": {},
   "source": [
    "## 2. Standard deviation: dictionaries and comprehension lists"
   ]
  },
  {
   "cell_type": "markdown",
   "id": "9023e64c-8808-4642-b67c-fd3732bc530d",
   "metadata": {},
   "source": [
    "Write a function that receives a list of dictionaries with a key and a list of integers as an input and gives a dictionary with the standard deviation of each list as an output (without using numpy built-in functions)."
   ]
  },
  {
   "cell_type": "code",
   "execution_count": 14,
   "id": "1f18a055-57bf-4f17-8e21-4bdf1fe1303f",
   "metadata": {},
   "outputs": [],
   "source": [
    "# standard deviation formula\n",
    "# σ = \\sqrt{ \\frac{1}{n}\\sum_{i=1}^n (x_i -μ)^2 }"
   ]
  },
  {
   "cell_type": "markdown",
   "id": "b25ad707-0c70-4280-80b6-1906110b2e86",
   "metadata": {},
   "source": [
    "$ σ = \\sqrt{ \\frac{1}{n}\\sum_{i=1}^n (x_i -μ)^2 } $"
   ]
  },
  {
   "cell_type": "code",
   "execution_count": 15,
   "id": "d2c54ba6-f92d-4cac-93c1-ebfe8298a046",
   "metadata": {},
   "outputs": [],
   "source": [
    "# dictionary input creation\n",
    "dictionary_input = [\n",
    "    {\"key\": \"list1\", \"values\": [4, 5, 2, 3, 4, 5, 2, 3]},\n",
    "    {\"key\": \"list2\", \"values\": [1, 1, 34, 12, 40, 3, 9, 7]},\n",
    "]"
   ]
  },
  {
   "cell_type": "code",
   "execution_count": 16,
   "id": "b8d61997-eb9c-43a3-b33d-6d256d02ee09",
   "metadata": {},
   "outputs": [],
   "source": [
    "# import math python built-in module\n",
    "import math\n",
    "\n",
    "\n",
    "# define function to calculate std\n",
    "def std_calculator(input_list):\n",
    "    # calculate mean\n",
    "    mean = sum(input_list) / len(input_list)\n",
    "\n",
    "    # calculate variance (sum of (xi - mean) ** 2 for loop\n",
    "    variance = sum((xi - mean) ** 2 for xi in input_list) / len(input_list)\n",
    "\n",
    "    # math.sqrt() -> calculate square root\n",
    "    std = round(math.sqrt(variance), 2)\n",
    "\n",
    "    return std"
   ]
  },
  {
   "cell_type": "code",
   "execution_count": 17,
   "id": "4d2b9aa1-5487-4826-889f-31b82adcb577",
   "metadata": {},
   "outputs": [],
   "source": [
    "# output dictionary initialization\n",
    "std_dictionary = {}\n",
    "\n",
    "# loop through list of dictionaries (item = current dictionary)\n",
    "for item in dictionary_input:\n",
    "    # .get('specified key') -> returns the value of the item for a specific key\n",
    "    std_dictionary[item.get(\"key\")] = std_calculator(item.get(\"values\"))"
   ]
  },
  {
   "cell_type": "code",
   "execution_count": 18,
   "id": "67f53c77-71b1-415f-b16c-06055a3d3a57",
   "metadata": {},
   "outputs": [
    {
     "data": {
      "text/plain": [
       "{'list1': 1.12, 'list2': 14.19}"
      ]
     },
     "execution_count": 18,
     "metadata": {},
     "output_type": "execute_result"
    }
   ],
   "source": [
    "# final output\n",
    "std_dictionary"
   ]
  },
  {
   "cell_type": "markdown",
   "id": "59b54f8b-e10f-437b-b6cf-59758a63efc7",
   "metadata": {},
   "source": [
    "## 3. Moving window average: assessing trends"
   ]
  },
  {
   "cell_type": "markdown",
   "id": "5b4a4085-5539-4ec8-9fa6-f4325d322024",
   "metadata": {},
   "source": [
    "The moving average is commonly used with time series to smooth random short-term variations while highlighting other componensa such as trend, season and cycle in the data. The goal of this exercise is a simple moving window average calculation."
   ]
  },
  {
   "cell_type": "code",
   "execution_count": 19,
   "id": "6b2b667f-e714-45f4-b3cc-9d6a9db02a53",
   "metadata": {},
   "outputs": [],
   "source": [
    "# import built-in fuctions\n",
    "# typing -> Union -> Union[X, Y] is equivalent to X | Y and means either X or Y\n",
    "from typing import List, Union\n",
    "\n",
    "\n",
    "# create moving window average function to return an awway of moving averages of size window_size\n",
    "def moving_window(input_list, window_size):\n",
    "    # arrays initialization\n",
    "    moving_average = []\n",
    "    window = []\n",
    "\n",
    "    for idx, element in enumerate(input_list):\n",
    "        # if the window limit is reached\n",
    "        if len(window) == window_size:\n",
    "            # remove trailing window item\n",
    "            window.pop(0)\n",
    "            # add new item\n",
    "            window.append(element)\n",
    "\n",
    "        else:\n",
    "            # add the item\n",
    "            window.append(element)\n",
    "\n",
    "        # avg between window sum and the smaller between window size or idx+1\n",
    "        avg = sum(window) / min(val, idx + 1)\n",
    "\n",
    "        # add moving average array\n",
    "        moving_average.append(avg)\n",
    "\n",
    "    return moving_average"
   ]
  },
  {
   "cell_type": "code",
   "execution_count": 20,
   "id": "4b2238ea-9469-4ffe-a9b0-fc8762c21812",
   "metadata": {},
   "outputs": [
    {
     "data": {
      "text/plain": [
       "[1.0, 2.0, 3.0, 4.0, 5.0, 6.0]"
      ]
     },
     "execution_count": 20,
     "metadata": {},
     "output_type": "execute_result"
    }
   ],
   "source": [
    "input1 = [1, 2, 3, 4, 5, 6]\n",
    "val = 1\n",
    "\n",
    "moving_window(input1, val)"
   ]
  },
  {
   "cell_type": "code",
   "execution_count": 21,
   "id": "7a7e803a-89d6-44db-b9ad-e853866dd570",
   "metadata": {},
   "outputs": [
    {
     "data": {
      "text/plain": [
       "[1.0, 1.5, 2.5, 3.5, 4.5, 5.5]"
      ]
     },
     "execution_count": 21,
     "metadata": {},
     "output_type": "execute_result"
    }
   ],
   "source": [
    "input2 = [1, 2, 3, 4, 5, 6]\n",
    "val = 2\n",
    "\n",
    "moving_window(input2, val)"
   ]
  },
  {
   "cell_type": "code",
   "execution_count": 22,
   "id": "1adad078-d51b-44f7-927f-1698042e4854",
   "metadata": {},
   "outputs": [
    {
     "data": {
      "text/plain": [
       "[1.0, 1.5, 2.0, 3.0, 4.0, 5.0]"
      ]
     },
     "execution_count": 22,
     "metadata": {},
     "output_type": "execute_result"
    }
   ],
   "source": [
    "input2 = [1, 2, 3, 4, 5, 6]\n",
    "val = 3\n",
    "\n",
    "moving_window(input2, val)\n",
    "\n",
    "# result explanation\n",
    "# 1, (1+2)/2=1.5, (1+2+3)/3=2, ..., (4+5+6)/3=5"
   ]
  },
  {
   "cell_type": "code",
   "execution_count": 23,
   "id": "69bc25a7-3d41-421f-bf2b-a8054f3a4318",
   "metadata": {},
   "outputs": [
    {
     "data": {
      "text/plain": [
       "[1.0, 1.5, 2.0, 2.5, 3.5, 4.5]"
      ]
     },
     "execution_count": 23,
     "metadata": {},
     "output_type": "execute_result"
    }
   ],
   "source": [
    "input2 = [1, 2, 3, 4, 5, 6]\n",
    "val = 4\n",
    "\n",
    "moving_window(input2, val)"
   ]
  },
  {
   "cell_type": "markdown",
   "id": "98157bea-d9f6-4565-a1e4-d8e2b2552363",
   "metadata": {},
   "source": [
    "## 4. D&D: 5-sided dice simulation"
   ]
  },
  {
   "cell_type": "markdown",
   "id": "fa6c6dc2-19f9-49a5-becd-e2c61db05da1",
   "metadata": {},
   "source": [
    "### 4.1 Create, test and plot the rand(7) function"
   ]
  },
  {
   "cell_type": "markdown",
   "id": "a449a0f3-a0ad-4ca0-a739-e2bfc5336cc6",
   "metadata": {},
   "source": [
    "With the function rand7() to simulate a 7-sided dice, return a list of random numbers which have a uniform distribution (equal probability)."
   ]
  },
  {
   "cell_type": "code",
   "execution_count": 24,
   "id": "26cd63bf-f176-486c-b17c-74bddaf5997a",
   "metadata": {},
   "outputs": [],
   "source": [
    "# import uniform continuous random variable distribution [0, 1|\n",
    "from scipy.stats import uniform\n",
    "\n",
    "# import pandas to analyze data\n",
    "import pandas as pd\n",
    "\n",
    "# import random shuffler\n",
    "from random import shuffle\n",
    "\n",
    "# import dictionary subclass for counting hashable (value never change) objects\n",
    "from collections import Counter\n",
    "\n",
    "# import random package\n",
    "import random\n",
    "\n",
    "# import collections package\n",
    "import collections"
   ]
  },
  {
   "cell_type": "code",
   "execution_count": 25,
   "id": "09b00463-1c6b-48c6-a7c2-497b845e2aaa",
   "metadata": {},
   "outputs": [],
   "source": [
    "# rand7() function definition\n",
    "def rand7():\n",
    "    return random.randint(1, 7)\n",
    "\n",
    "\n",
    "# evaluation function definition\n",
    "def evaluation(data):\n",
    "    data = Counter(data)\n",
    "    ordered_data = collections.OrderedDict(sorted(Counter(data).items()))\n",
    "    # create DataFrame from dictionary\n",
    "    df = pd.DataFrame.from_dict(ordered_data, orient=\"index\", columns=[\"item\"])\n",
    "    # plot DataFrame\n",
    "    df.plot(kind=\"bar\")\n",
    "    print(ordered_data)"
   ]
  },
  {
   "cell_type": "code",
   "execution_count": 26,
   "id": "b88aed3b-94c6-4f1d-87b1-fa03649b3453",
   "metadata": {},
   "outputs": [
    {
     "name": "stdout",
     "output_type": "stream",
     "text": [
      "OrderedDict([(1, 1427), (2, 1390), (3, 1404), (4, 1452), (5, 1468), (6, 1419), (7, 1440)])\n"
     ]
    },
    {
     "data": {
      "image/png": "[encoded data removed]",
      "text/plain": [
       "<Figure size 432x288 with 1 Axes>"
      ]
     },
     "metadata": {
      "needs_background": "light"
     },
     "output_type": "display_data"
    }
   ],
   "source": [
    "# return 10000 random numbers between 1-7\n",
    "list_rand7 = [rand7() for _ in range(10000)]\n",
    "evaluation(list_rand7)"
   ]
  },
  {
   "cell_type": "markdown",
   "id": "c80b543d-3e14-40e1-93a1-2537513d8f95",
   "metadata": {},
   "source": [
    "### 4.2 Use rand7() to create a rand5() function"
   ]
  },
  {
   "cell_type": "markdown",
   "id": "ff501f62-f682-45a9-bd08-dd9db223e07a",
   "metadata": {},
   "source": [
    "Generate a random integer from 1 to 5 by using a new rand5() function built from rand7(), with equal probability."
   ]
  },
  {
   "cell_type": "code",
   "execution_count": 27,
   "id": "ece87e1c-d7de-458c-9a3c-036969e50bde",
   "metadata": {},
   "outputs": [],
   "source": [
    "# rand5() function definition\n",
    "def rand5():\n",
    "    result = 7\n",
    "    while result > 5:\n",
    "        result = rand7()\n",
    "    return result"
   ]
  },
  {
   "cell_type": "code",
   "execution_count": 28,
   "id": "b3e2985f-2414-4d0a-ac9d-7148277e9544",
   "metadata": {},
   "outputs": [
    {
     "name": "stdout",
     "output_type": "stream",
     "text": [
      "OrderedDict([(1, 1988), (2, 2036), (3, 2027), (4, 1983), (5, 1966)])\n"
     ]
    },
    {
     "data": {
      "image/png": "[encoded data removed]",
      "text/plain": [
       "<Figure size 432x288 with 1 Axes>"
      ]
     },
     "metadata": {
      "needs_background": "light"
     },
     "output_type": "display_data"
    }
   ],
   "source": [
    "list_rand5 = [rand5() for _ in range(10000)]\n",
    "evaluation(list_rand5)"
   ]
  },
  {
   "cell_type": "markdown",
   "id": "f5a9379b-cc72-4d5b-9495-7727eb84f748",
   "metadata": {},
   "source": [
    "### 4.3 Use a rand5() function to generate a random integer between 1 and 7"
   ]
  },
  {
   "cell_type": "markdown",
   "id": "4b37b09a-f7da-4077-b478-97be1e3f2aa1",
   "metadata": {},
   "source": [
    "Let's have a look at how the standard rand5() function behaves."
   ]
  },
  {
   "cell_type": "code",
   "execution_count": 29,
   "id": "30cec604-18ba-4731-9c53-2f4040281216",
   "metadata": {},
   "outputs": [],
   "source": [
    "# rand5() standard function\n",
    "def rand5():\n",
    "    return random.randint(1, 5)"
   ]
  },
  {
   "cell_type": "code",
   "execution_count": 30,
   "id": "dd435ee0-2905-4851-b25c-d9052bbc14aa",
   "metadata": {},
   "outputs": [
    {
     "name": "stdout",
     "output_type": "stream",
     "text": [
      "OrderedDict([(1, 2002), (2, 2045), (3, 1933), (4, 2023), (5, 1997)])\n"
     ]
    },
    {
     "data": {
      "image/png": "[encoded data removed]",
      "text/plain": [
       "<Figure size 432x288 with 1 Axes>"
      ]
     },
     "metadata": {
      "needs_background": "light"
     },
     "output_type": "display_data"
    }
   ],
   "source": [
    "# return 10000 random numbers between 1 and 5\n",
    "list_rand5 = [rand5() for _ in range(10000)]\n",
    "evaluation(list_rand5)"
   ]
  },
  {
   "cell_type": "markdown",
   "id": "a9e4ac7b-05f1-4d2b-b9c8-01a2f7bfc778",
   "metadata": {},
   "source": [
    "To generate also 6 and 7 in the output we need to modify the rand7() function."
   ]
  },
  {
   "cell_type": "code",
   "execution_count": 31,
   "id": "deb56d1f-8c69-4c1a-9673-4cfa06bbfac9",
   "metadata": {},
   "outputs": [],
   "source": [
    "# new rand7() modified function\n",
    "def rand7_mod():\n",
    "    return (rand5() + rand5()) % 7 + 1"
   ]
  },
  {
   "cell_type": "code",
   "execution_count": 32,
   "id": "918393c2-9798-4412-83bc-bff756fd3c12",
   "metadata": {},
   "outputs": [
    {
     "name": "stdout",
     "output_type": "stream",
     "text": [
      "OrderedDict([(1, 1598), (2, 1209), (3, 1162), (4, 1192), (5, 1189), (6, 1597), (7, 2053)])\n"
     ]
    },
    {
     "data": {
      "image/png": "[encoded data removed]",
      "text/plain": [
       "<Figure size 432x288 with 1 Axes>"
      ]
     },
     "metadata": {
      "needs_background": "light"
     },
     "output_type": "display_data"
    }
   ],
   "source": [
    "# return 10000 random numbers between 1 and 7\n",
    "list_rand7_mod = [rand7_mod() for _ in range(10000)]\n",
    "evaluation(list_rand7_mod)"
   ]
  },
  {
   "cell_type": "markdown",
   "id": "b91137fb-63f4-4ad8-abbd-ec42e368ac15",
   "metadata": {},
   "source": [
    "Why aren't we getting equal probability? The current function leads to 7 in five different outcomes, but leads to 5 in only 3 different outcomes. In addition, the total number of ourcomes of two rand5() calls is 25 (5*5). The function needs to be modified to ensure that the we get the same number of outcomes for each of the 7 integers."
   ]
  },
  {
   "cell_type": "markdown",
   "id": "ae571004-16c5-46f4-a5b2-7b9a9500096d",
   "metadata": {},
   "source": [
    "Factorization: both 5 and 7 are prime integers, and if any power of 5 were divisible by 7, 7 would be in its prime factorization. As 7 can't be in its prime factorization (it's prime factorization is all 5s as it has only one prime factorization), no power of 5 is divisible by 7."
   ]
  },
  {
   "cell_type": "code",
   "execution_count": 33,
   "id": "57fc7afa-fc53-4a75-8b40-6ba8f6d3c518",
   "metadata": {},
   "outputs": [],
   "source": [
    "# outcome_number = roll1 * 5 + roll2\n",
    "\n",
    "# two-digit base-5 integer (roll1 -> the fives digit, roll2 -> the ones digit)\n",
    "# outcome_number = ((roll1-1) * 5 + (roll2-1)) + 1"
   ]
  },
  {
   "cell_type": "code",
   "execution_count": 34,
   "id": "325c2eb9-a38c-46d7-9cc1-5e0ffcbf607b",
   "metadata": {},
   "outputs": [],
   "source": [
    "# correct rand7() modified function with correct distribution\n",
    "def rand7():\n",
    "    while True:\n",
    "        # roll dice\n",
    "        roll1 = rand5()\n",
    "        roll2 = rand5()\n",
    "        # ensure that each roll is between 1 and 25\n",
    "        outcome_number = (roll1 - 1) * 5 + (roll2 - 1) + 1\n",
    "        # if we get an outcome > 21\n",
    "        if outcome_number > 21:\n",
    "            # reroll again\n",
    "            continue\n",
    "        # if <= 21 return the outcome\n",
    "        return outcome_number % 7 + 1"
   ]
  },
  {
   "cell_type": "code",
   "execution_count": 35,
   "id": "4b5710f4-7270-4a9d-93cb-7d7363cbb551",
   "metadata": {},
   "outputs": [
    {
     "name": "stdout",
     "output_type": "stream",
     "text": [
      "OrderedDict([(1, 1432), (2, 1416), (3, 1418), (4, 1414), (5, 1430), (6, 1433), (7, 1457)])\n"
     ]
    },
    {
     "data": {
      "image/png": "[encoded data removed]",
      "text/plain": [
       "<Figure size 432x288 with 1 Axes>"
      ]
     },
     "metadata": {
      "needs_background": "light"
     },
     "output_type": "display_data"
    }
   ],
   "source": [
    "# return 10000 random numbers between 1 and 7\n",
    "list_rand7 = [rand7() for _ in range(10000)]\n",
    "evaluation(list_rand7)"
   ]
  }
 ],
 "metadata": {
  "kernelspec": {
   "display_name": "projects",
   "language": "python",
   "name": "projects"
  },
  "language_info": {
   "codemirror_mode": {
    "name": "ipython",
    "version": 3
   },
   "file_extension": ".py",
   "mimetype": "text/x-python",
   "name": "python",
   "nbconvert_exporter": "python",
   "pygments_lexer": "ipython3",
   "version": "3.10.9"
  }
 },
 "nbformat": 4,
 "nbformat_minor": 5
}
