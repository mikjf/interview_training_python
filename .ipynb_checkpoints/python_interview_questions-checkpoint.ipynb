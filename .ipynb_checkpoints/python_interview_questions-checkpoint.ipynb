{
 "cells": [
  {
   "cell_type": "markdown",
   "id": "d7b7c165-dcb8-4df6-983a-ac168acc492d",
   "metadata": {},
   "source": [
    "# Python Interview Questions"
   ]
  },
  {
   "cell_type": "code",
   "execution_count": 1,
   "id": "e9469f25-b0af-4e37-aa67-c70fbd1e66b9",
   "metadata": {},
   "outputs": [
    {
     "name": "stdout",
     "output_type": "stream",
     "text": [
      "Collecting nb_black\n",
      "  Using cached nb_black-1.0.7.tar.gz (4.8 kB)\n",
      "  Preparing metadata (setup.py) ... \u001b[?25ldone\n",
      "\u001b[?25hRequirement already satisfied: ipython in /opt/anaconda3/envs/projects/lib/python3.10/site-packages (from nb_black) (8.3.0)\n",
      "Collecting black>='19.3'\n",
      "  Downloading black-23.1.0-cp310-cp310-macosx_10_16_x86_64.whl (1.5 MB)\n",
      "\u001b[2K     \u001b[90m━━━━━━━━━━━━━━━━━━━━━━━━━━━━━━━━━━━━━━━━\u001b[0m \u001b[32m1.5/1.5 MB\u001b[0m \u001b[31m1.6 MB/s\u001b[0m eta \u001b[36m0:00:00\u001b[0m00:01\u001b[0m00:01\u001b[0m0m\n",
      "\u001b[?25hCollecting click>=8.0.0\n",
      "  Downloading click-8.1.3-py3-none-any.whl (96 kB)\n",
      "\u001b[2K     \u001b[90m━━━━━━━━━━━━━━━━━━━━━━━━━━━━━━━━━━━━━━━━\u001b[0m \u001b[32m96.6/96.6 kB\u001b[0m \u001b[31m2.5 MB/s\u001b[0m eta \u001b[36m0:00:00\u001b[0m\n",
      "\u001b[?25hCollecting mypy-extensions>=0.4.3\n",
      "  Downloading mypy_extensions-1.0.0-py3-none-any.whl (4.7 kB)\n",
      "Requirement already satisfied: tomli>=1.1.0 in /opt/anaconda3/envs/projects/lib/python3.10/site-packages (from black>='19.3'->nb_black) (2.0.1)\n",
      "Collecting pathspec>=0.9.0\n",
      "  Downloading pathspec-0.11.0-py3-none-any.whl (29 kB)\n",
      "Requirement already satisfied: packaging>=22.0 in /opt/anaconda3/envs/projects/lib/python3.10/site-packages (from black>='19.3'->nb_black) (23.0)\n",
      "Collecting platformdirs>=2\n",
      "  Downloading platformdirs-3.1.1-py3-none-any.whl (14 kB)\n",
      "Requirement already satisfied: stack-data in /opt/anaconda3/envs/projects/lib/python3.10/site-packages (from ipython->nb_black) (0.2.0)\n",
      "Requirement already satisfied: traitlets>=5 in /opt/anaconda3/envs/projects/lib/python3.10/site-packages (from ipython->nb_black) (5.1.1)\n",
      "Requirement already satisfied: setuptools>=18.5 in /opt/anaconda3/envs/projects/lib/python3.10/site-packages (from ipython->nb_black) (65.6.3)\n",
      "Requirement already satisfied: jedi>=0.16 in /opt/anaconda3/envs/projects/lib/python3.10/site-packages (from ipython->nb_black) (0.18.1)\n",
      "Requirement already satisfied: appnope in /opt/anaconda3/envs/projects/lib/python3.10/site-packages (from ipython->nb_black) (0.1.2)\n",
      "Requirement already satisfied: decorator in /opt/anaconda3/envs/projects/lib/python3.10/site-packages (from ipython->nb_black) (5.1.1)\n",
      "Requirement already satisfied: backcall in /opt/anaconda3/envs/projects/lib/python3.10/site-packages (from ipython->nb_black) (0.2.0)\n",
      "Requirement already satisfied: prompt-toolkit!=3.0.0,!=3.0.1,<3.1.0,>=2.0.0 in /opt/anaconda3/envs/projects/lib/python3.10/site-packages (from ipython->nb_black) (3.0.20)\n",
      "Requirement already satisfied: pexpect>4.3 in /opt/anaconda3/envs/projects/lib/python3.10/site-packages (from ipython->nb_black) (4.8.0)\n",
      "Requirement already satisfied: pygments>=2.4.0 in /opt/anaconda3/envs/projects/lib/python3.10/site-packages (from ipython->nb_black) (2.11.2)\n",
      "Requirement already satisfied: pickleshare in /opt/anaconda3/envs/projects/lib/python3.10/site-packages (from ipython->nb_black) (0.7.5)\n",
      "Requirement already satisfied: matplotlib-inline in /opt/anaconda3/envs/projects/lib/python3.10/site-packages (from ipython->nb_black) (0.1.2)\n",
      "Requirement already satisfied: parso<0.9.0,>=0.8.0 in /opt/anaconda3/envs/projects/lib/python3.10/site-packages (from jedi>=0.16->ipython->nb_black) (0.8.3)\n",
      "Requirement already satisfied: ptyprocess>=0.5 in /opt/anaconda3/envs/projects/lib/python3.10/site-packages (from pexpect>4.3->ipython->nb_black) (0.7.0)\n",
      "Requirement already satisfied: wcwidth in /opt/anaconda3/envs/projects/lib/python3.10/site-packages (from prompt-toolkit!=3.0.0,!=3.0.1,<3.1.0,>=2.0.0->ipython->nb_black) (0.2.5)\n",
      "Requirement already satisfied: asttokens in /opt/anaconda3/envs/projects/lib/python3.10/site-packages (from stack-data->ipython->nb_black) (2.0.5)\n",
      "Requirement already satisfied: pure-eval in /opt/anaconda3/envs/projects/lib/python3.10/site-packages (from stack-data->ipython->nb_black) (0.2.2)\n",
      "Requirement already satisfied: executing in /opt/anaconda3/envs/projects/lib/python3.10/site-packages (from stack-data->ipython->nb_black) (0.8.3)\n",
      "Requirement already satisfied: six in /opt/anaconda3/envs/projects/lib/python3.10/site-packages (from asttokens->stack-data->ipython->nb_black) (1.16.0)\n",
      "Building wheels for collected packages: nb_black\n",
      "  Building wheel for nb_black (setup.py) ... \u001b[?25ldone\n",
      "\u001b[?25h  Created wheel for nb_black: filename=nb_black-1.0.7-py3-none-any.whl size=5281 sha256=c95d731cc0a4c334ccaae5d17eacc6e9896942ed89ba7b0cbbb515f8ecc32c53\n",
      "  Stored in directory: /Users/michaelflury/Library/Caches/pip/wheels/07/59/49/09acea0fd0fb76995b8ccc4be80e16e364bcc6f6aefe5ec581\n",
      "Successfully built nb_black\n",
      "Installing collected packages: platformdirs, pathspec, mypy-extensions, click, black, nb_black\n",
      "Successfully installed black-23.1.0 click-8.1.3 mypy-extensions-1.0.0 nb_black-1.0.7 pathspec-0.11.0 platformdirs-3.1.1\n"
     ]
    }
   ],
   "source": [
    "# extension to help clean python code\n",
    "!pip install nb_black"
   ]
  },
  {
   "cell_type": "code",
   "execution_count": 4,
   "id": "699cfc4d-ef5f-466b-8587-3a42c59184cd",
   "metadata": {},
   "outputs": [
    {
     "name": "stdout",
     "output_type": "stream",
     "text": [
      "The lab_black extension is already loaded. To reload it, use:\n",
      "  %reload_ext lab_black\n"
     ]
    }
   ],
   "source": [
    "# check if lab_black is loaded\n",
    "%load_ext lab_black"
   ]
  },
  {
   "cell_type": "markdown",
   "id": "22a92ba7-62d1-4259-b8fb-6014e03e8369",
   "metadata": {},
   "source": [
    "## 1. Warm-up"
   ]
  }
 ],
 "metadata": {
  "kernelspec": {
   "display_name": "projects",
   "language": "python",
   "name": "projects"
  },
  "language_info": {
   "codemirror_mode": {
    "name": "ipython",
    "version": 3
   },
   "file_extension": ".py",
   "mimetype": "text/x-python",
   "name": "python",
   "nbconvert_exporter": "python",
   "pygments_lexer": "ipython3",
   "version": "3.10.9"
  }
 },
 "nbformat": 4,
 "nbformat_minor": 5
}
