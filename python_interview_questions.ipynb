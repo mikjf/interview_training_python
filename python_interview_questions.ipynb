{
 "cells": [
  {
   "cell_type": "markdown",
   "id": "d7b7c165-dcb8-4df6-983a-ac168acc492d",
   "metadata": {},
   "source": [
    "# Python Interview Questions"
   ]
  },
  {
   "cell_type": "code",
   "execution_count": 1,
   "id": "e9469f25-b0af-4e37-aa67-c70fbd1e66b9",
   "metadata": {},
   "outputs": [
    {
     "name": "stdout",
     "output_type": "stream",
     "text": [
      "Requirement already satisfied: nb_black in /opt/anaconda3/envs/projects/lib/python3.10/site-packages (1.0.7)\n",
      "Requirement already satisfied: black>='19.3' in /opt/anaconda3/envs/projects/lib/python3.10/site-packages (from nb_black) (23.1.0)\n",
      "Requirement already satisfied: ipython in /opt/anaconda3/envs/projects/lib/python3.10/site-packages (from nb_black) (8.3.0)\n",
      "Requirement already satisfied: tomli>=1.1.0 in /opt/anaconda3/envs/projects/lib/python3.10/site-packages (from black>='19.3'->nb_black) (2.0.1)\n",
      "Requirement already satisfied: click>=8.0.0 in /opt/anaconda3/envs/projects/lib/python3.10/site-packages (from black>='19.3'->nb_black) (8.1.3)\n",
      "Requirement already satisfied: packaging>=22.0 in /opt/anaconda3/envs/projects/lib/python3.10/site-packages (from black>='19.3'->nb_black) (23.0)\n",
      "Requirement already satisfied: platformdirs>=2 in /opt/anaconda3/envs/projects/lib/python3.10/site-packages (from black>='19.3'->nb_black) (3.1.1)\n",
      "Requirement already satisfied: mypy-extensions>=0.4.3 in /opt/anaconda3/envs/projects/lib/python3.10/site-packages (from black>='19.3'->nb_black) (1.0.0)\n",
      "Requirement already satisfied: pathspec>=0.9.0 in /opt/anaconda3/envs/projects/lib/python3.10/site-packages (from black>='19.3'->nb_black) (0.11.0)\n",
      "Requirement already satisfied: jedi>=0.16 in /opt/anaconda3/envs/projects/lib/python3.10/site-packages (from ipython->nb_black) (0.18.1)\n",
      "Requirement already satisfied: backcall in /opt/anaconda3/envs/projects/lib/python3.10/site-packages (from ipython->nb_black) (0.2.0)\n",
      "Requirement already satisfied: pygments>=2.4.0 in /opt/anaconda3/envs/projects/lib/python3.10/site-packages (from ipython->nb_black) (2.11.2)\n",
      "Requirement already satisfied: appnope in /opt/anaconda3/envs/projects/lib/python3.10/site-packages (from ipython->nb_black) (0.1.2)\n",
      "Requirement already satisfied: pexpect>4.3 in /opt/anaconda3/envs/projects/lib/python3.10/site-packages (from ipython->nb_black) (4.8.0)\n",
      "Requirement already satisfied: traitlets>=5 in /opt/anaconda3/envs/projects/lib/python3.10/site-packages (from ipython->nb_black) (5.1.1)\n",
      "Requirement already satisfied: stack-data in /opt/anaconda3/envs/projects/lib/python3.10/site-packages (from ipython->nb_black) (0.2.0)\n",
      "Requirement already satisfied: matplotlib-inline in /opt/anaconda3/envs/projects/lib/python3.10/site-packages (from ipython->nb_black) (0.1.2)\n",
      "Requirement already satisfied: decorator in /opt/anaconda3/envs/projects/lib/python3.10/site-packages (from ipython->nb_black) (5.1.1)\n",
      "Requirement already satisfied: prompt-toolkit!=3.0.0,!=3.0.1,<3.1.0,>=2.0.0 in /opt/anaconda3/envs/projects/lib/python3.10/site-packages (from ipython->nb_black) (3.0.20)\n",
      "Requirement already satisfied: pickleshare in /opt/anaconda3/envs/projects/lib/python3.10/site-packages (from ipython->nb_black) (0.7.5)\n",
      "Requirement already satisfied: setuptools>=18.5 in /opt/anaconda3/envs/projects/lib/python3.10/site-packages (from ipython->nb_black) (65.6.3)\n",
      "Requirement already satisfied: parso<0.9.0,>=0.8.0 in /opt/anaconda3/envs/projects/lib/python3.10/site-packages (from jedi>=0.16->ipython->nb_black) (0.8.3)\n",
      "Requirement already satisfied: ptyprocess>=0.5 in /opt/anaconda3/envs/projects/lib/python3.10/site-packages (from pexpect>4.3->ipython->nb_black) (0.7.0)\n",
      "Requirement already satisfied: wcwidth in /opt/anaconda3/envs/projects/lib/python3.10/site-packages (from prompt-toolkit!=3.0.0,!=3.0.1,<3.1.0,>=2.0.0->ipython->nb_black) (0.2.5)\n",
      "Requirement already satisfied: executing in /opt/anaconda3/envs/projects/lib/python3.10/site-packages (from stack-data->ipython->nb_black) (0.8.3)\n",
      "Requirement already satisfied: pure-eval in /opt/anaconda3/envs/projects/lib/python3.10/site-packages (from stack-data->ipython->nb_black) (0.2.2)\n",
      "Requirement already satisfied: asttokens in /opt/anaconda3/envs/projects/lib/python3.10/site-packages (from stack-data->ipython->nb_black) (2.0.5)\n",
      "Requirement already satisfied: six in /opt/anaconda3/envs/projects/lib/python3.10/site-packages (from asttokens->stack-data->ipython->nb_black) (1.16.0)\n"
     ]
    }
   ],
   "source": [
    "# extension to help clean python code\n",
    "!pip install nb_black"
   ]
  },
  {
   "cell_type": "code",
   "execution_count": 2,
   "id": "699cfc4d-ef5f-466b-8587-3a42c59184cd",
   "metadata": {},
   "outputs": [],
   "source": [
    "# check if lab_black is loaded\n",
    "%load_ext lab_black"
   ]
  },
  {
   "cell_type": "markdown",
   "id": "22a92ba7-62d1-4259-b8fb-6014e03e8369",
   "metadata": {},
   "source": [
    "## 1. Stock prices: buy or sell"
   ]
  },
  {
   "cell_type": "markdown",
   "id": "fbffab38-a3a8-4da4-8695-f6387e8d2945",
   "metadata": {},
   "source": [
    "### 1.1 Buy / sell (method 1)"
   ]
  },
  {
   "cell_type": "markdown",
   "id": "78856cee-8edf-470c-8f1e-1324e71690e8",
   "metadata": {},
   "source": [
    "Write a function that outputs the maximum profits buy buying and selling at a specific interval.\n",
    "- input : stock_price = [10,5,20,32,25,12]\n",
    "- output: get_max_profit(stock_prices) -> 27"
   ]
  },
  {
   "cell_type": "code",
   "execution_count": 31,
   "id": "5519f6cc-662c-481d-ad27-5acb0cbf0b7c",
   "metadata": {},
   "outputs": [],
   "source": [
    "# function to get maximum profit\n",
    "def get_max_profit(input_list):\n",
    "    # size of the list\n",
    "    size = len(input_list)\n",
    "\n",
    "    # variables\n",
    "    max_profit = input_list[1] - input_list[0]\n",
    "    min_value = input_list[0]\n",
    "\n",
    "    # for each stock price in the list\n",
    "    for i in range(1, size):\n",
    "        # if new value in the list - current min_value is higher then current profit, keep it as max_profit\n",
    "        if input_list[i] - min_value > max_profit:\n",
    "            max_profit = input_list[i] - min_value\n",
    "\n",
    "        # if new value is lower then current min_value, become the new min_value\n",
    "        if input_list[i] < min_value:\n",
    "            min_value = input_list[i]\n",
    "\n",
    "    print(\"Our maximum profit is %s\" % max_profit)\n",
    "    return max_profit"
   ]
  },
  {
   "cell_type": "code",
   "execution_count": 32,
   "id": "44ff7840-9cc4-4635-9b04-b47bd50dc074",
   "metadata": {},
   "outputs": [
    {
     "name": "stdout",
     "output_type": "stream",
     "text": [
      "Our maximum profit is 27\n"
     ]
    },
    {
     "data": {
      "text/plain": [
       "27"
      ]
     },
     "execution_count": 32,
     "metadata": {},
     "output_type": "execute_result"
    }
   ],
   "source": [
    "stock_price = [10, 20, 5, 32, 25, 12]\n",
    "get_max_profit(stock_price)"
   ]
  },
  {
   "cell_type": "code",
   "execution_count": 33,
   "id": "2817caf8-4227-475a-812a-d51cd87fa5a7",
   "metadata": {},
   "outputs": [
    {
     "name": "stdout",
     "output_type": "stream",
     "text": [
      "Our maximum profit is 22\n"
     ]
    },
    {
     "data": {
      "text/plain": [
       "22"
      ]
     },
     "execution_count": 33,
     "metadata": {},
     "output_type": "execute_result"
    }
   ],
   "source": [
    "# double checking with other another stock price list\n",
    "stock_price = [10, 20, 32, 5, 25, 12]\n",
    "get_max_profit(stock_price)"
   ]
  },
  {
   "cell_type": "markdown",
   "id": "ca12ac67-643c-485c-9e0e-b94c56b1d9d7",
   "metadata": {},
   "source": [
    "### 1.2 Buy / sell (method 2)"
   ]
  },
  {
   "cell_type": "code",
   "execution_count": 34,
   "id": "6e7b001c-e14f-4017-8f7f-de6c852c84eb",
   "metadata": {},
   "outputs": [],
   "source": [
    "# alternative method\n",
    "def get_max_profit(stock_list):\n",
    "    # initial max_profit list setup\n",
    "    max_profit = [0, 0, 0]\n",
    "\n",
    "    # for every price in the list\n",
    "    for i in range(len(stock_list)):\n",
    "        # for every price after the i price in the list\n",
    "        for j in range(i + 1, len(stock_list)):\n",
    "            # profit = next day price - day price\n",
    "            profit = stock_list[j] - stock_list[i]\n",
    "\n",
    "            if profit > 0:\n",
    "                # if new max_profit higher than current profit, become new profit\n",
    "                if max_profit[2] <= profit:\n",
    "                    max_profit[0] = i + 1\n",
    "                    max_profit[1] = j + 1\n",
    "                    max_profit[2] = profit\n",
    "\n",
    "    print(\n",
    "        \"We buy on day %s and sell on day %s to get a maximum profit of %s\"\n",
    "        % (max_profit[0], max_profit[1], max_profit[2])\n",
    "    )\n",
    "\n",
    "    return max_profit[2]"
   ]
  },
  {
   "cell_type": "code",
   "execution_count": 35,
   "id": "101101cf-cc23-43ab-ae17-95b0bdc081dc",
   "metadata": {},
   "outputs": [
    {
     "name": "stdout",
     "output_type": "stream",
     "text": [
      "We buy on day 3 and sell on day 4 to get a maximum profit of 27\n"
     ]
    },
    {
     "data": {
      "text/plain": [
       "27"
      ]
     },
     "execution_count": 35,
     "metadata": {},
     "output_type": "execute_result"
    }
   ],
   "source": [
    "stock_price = [10, 20, 5, 32, 25, 12]\n",
    "get_max_profit(stock_price)"
   ]
  },
  {
   "cell_type": "code",
   "execution_count": 36,
   "id": "be0d71bd-29e5-41f2-aaf1-54d1a5ae34bb",
   "metadata": {},
   "outputs": [
    {
     "name": "stdout",
     "output_type": "stream",
     "text": [
      "We buy on day 1 and sell on day 3 to get a maximum profit of 22\n"
     ]
    },
    {
     "data": {
      "text/plain": [
       "22"
      ]
     },
     "execution_count": 36,
     "metadata": {},
     "output_type": "execute_result"
    }
   ],
   "source": [
    "stock_price = [10, 20, 32, 5, 25, 12]\n",
    "get_max_profit(stock_price)"
   ]
  },
  {
   "cell_type": "markdown",
   "id": "91a31b1b-2b2b-4eb4-bb4b-5c8f4c060fd6",
   "metadata": {},
   "source": [
    "### 1.3 Time complexity with datetime"
   ]
  },
  {
   "cell_type": "markdown",
   "id": "bd1252cb-3270-4a3b-b30b-e6511c0bfb1b",
   "metadata": {},
   "source": [
    "Give a list of stock prices and date times, output the profit and stard/end dates for max profit."
   ]
  },
  {
   "cell_type": "code",
   "execution_count": 81,
   "id": "9f6dc28c-2c0e-4c0a-8fb0-65f3a24b5af3",
   "metadata": {},
   "outputs": [],
   "source": [
    "# new function to get maximum profit with date times\n",
    "def get_max_profit(input_list, dates):\n",
    "    # size of the list\n",
    "    size = len(input_list)\n",
    "\n",
    "    # previous variables\n",
    "    max_profit = input_list[1] - input_list[0]\n",
    "    min_value = input_list[0]\n",
    "\n",
    "    # additional starting points\n",
    "    sell = 1\n",
    "    buy = 0\n",
    "    temp_min = 0\n",
    "\n",
    "    # for each item in the list\n",
    "    for i in range(1, size):\n",
    "        if input_list[i] - min_value > max_profit:\n",
    "            max_profit = input_list[i] - min_value\n",
    "            # save item index for the date of sell and buy\n",
    "            sell = i\n",
    "            buy = temp_min\n",
    "\n",
    "        if input_list[i] < min_value:\n",
    "            min_value = input_list[i]\n",
    "            # save item index for the date of the new min_value\n",
    "            temp_min = i\n",
    "\n",
    "    print(\n",
    "        \"Buy stock on %s and sell on %s to get a maximum profit of %s\"\n",
    "        % (dates[buy], dates[sell], max_profit)\n",
    "    )\n",
    "    return max_profit"
   ]
  },
  {
   "cell_type": "code",
   "execution_count": 82,
   "id": "786eed73-81df-4a70-aa9f-a6723373ad02",
   "metadata": {},
   "outputs": [
    {
     "name": "stdout",
     "output_type": "stream",
     "text": [
      "Buy stock on 2023-01-03 and sell on 2023-01-04 to get a maximum profit of 27\n"
     ]
    },
    {
     "data": {
      "text/plain": [
       "27"
      ]
     },
     "execution_count": 82,
     "metadata": {},
     "output_type": "execute_result"
    }
   ],
   "source": [
    "# define stock_price and dates lists\n",
    "stock_price = [10, 20, 5, 32, 25, 12]\n",
    "\n",
    "dates = [\n",
    "    \"2023-01-01\",\n",
    "    \"2023-01-02\",\n",
    "    \"2023-01-03\",\n",
    "    \"2023-01-04\",\n",
    "    \"2023-01-05\",\n",
    "    \"2023-01-06\",\n",
    "]\n",
    "\n",
    "get_max_profit(stock_price, dates)"
   ]
  },
  {
   "cell_type": "code",
   "execution_count": 83,
   "id": "e36e885d-a6b5-4771-9aa4-dc3524280a86",
   "metadata": {},
   "outputs": [],
   "source": [
    "# from alternative method from 1.2 (method 2)\n",
    "def get_max_profit(stock_list, dates):\n",
    "    max_profit = [0, 0, 0]\n",
    "\n",
    "    for i in range(len(stock_list)):\n",
    "        for j in range(i + 1, len(stock_list)):\n",
    "            profit = stock_list[j] - stock_list[i]\n",
    "            if profit > 0:\n",
    "                if max_profit[2] <= profit:\n",
    "                    # save lowest price item date\n",
    "                    max_profit[0] = dates[i + 1]\n",
    "                    # save highest price item date\n",
    "                    max_profit[1] = dates[j + 1]\n",
    "                    # save profit between the two prices for the two dates\n",
    "                    max_profit[2] = profit\n",
    "\n",
    "                # what's happening in the for loop explanation\n",
    "                print(\n",
    "                    \"Comparing %s to %s resulting in a profit of %s\"\n",
    "                    % (stock_list[i], stock_list[j], profit)\n",
    "                )\n",
    "\n",
    "    # output\n",
    "    print(\n",
    "        \"---------------------------------------------------------------------------------\"\n",
    "    )\n",
    "    print(\n",
    "        \"Buy stock on %s and sell on %s to get a maximum profit of %s\"\n",
    "        % (max_profit[0], max_profit[1], max_profit[2])\n",
    "    )\n",
    "    return max_profit"
   ]
  },
  {
   "cell_type": "code",
   "execution_count": 84,
   "id": "8aace9ab-f8b0-4bd6-b875-6193db2a4567",
   "metadata": {},
   "outputs": [
    {
     "name": "stdout",
     "output_type": "stream",
     "text": [
      "Comparing 10 to 20 resulting in a profit of 10\n",
      "Comparing 10 to 32 resulting in a profit of 22\n",
      "Comparing 10 to 25 resulting in a profit of 15\n",
      "Comparing 10 to 12 resulting in a profit of 2\n",
      "Comparing 20 to 32 resulting in a profit of 12\n",
      "Comparing 20 to 25 resulting in a profit of 5\n",
      "Comparing 5 to 32 resulting in a profit of 27\n",
      "Comparing 5 to 25 resulting in a profit of 20\n",
      "Comparing 5 to 12 resulting in a profit of 7\n",
      "---------------------------------------------------------------------------------\n",
      "Buy stock on 2023-01-04 and sell on 2023-01-05 to get a maximum profit of 27\n"
     ]
    }
   ],
   "source": [
    "# previous stock_price and dates lists\n",
    "stock_price = [10, 20, 5, 32, 25, 12]\n",
    "\n",
    "dates = [\n",
    "    \"2023-01-01\",\n",
    "    \"2023-01-02\",\n",
    "    \"2023-01-03\",\n",
    "    \"2023-01-04\",\n",
    "    \"2023-01-05\",\n",
    "    \"2023-01-06\",\n",
    "]\n",
    "\n",
    "day_to_buy, day_to_sell, profit = get_max_profit(stock_price, dates)"
   ]
  },
  {
   "cell_type": "code",
   "execution_count": 85,
   "id": "3f43c6c1-9a62-4f4e-b049-dc6da2e02112",
   "metadata": {},
   "outputs": [
    {
     "name": "stdout",
     "output_type": "stream",
     "text": [
      "Comparing 10 to 20 resulting in a profit of 10\n",
      "Comparing 10 to 32 resulting in a profit of 22\n",
      "Comparing 10 to 25 resulting in a profit of 15\n",
      "Comparing 10 to 12 resulting in a profit of 2\n",
      "Comparing 5 to 20 resulting in a profit of 15\n",
      "Comparing 5 to 32 resulting in a profit of 27\n",
      "Comparing 5 to 25 resulting in a profit of 20\n",
      "Comparing 5 to 12 resulting in a profit of 7\n",
      "Comparing 20 to 32 resulting in a profit of 12\n",
      "Comparing 20 to 25 resulting in a profit of 5\n",
      "---------------------------------------------------------------------------------\n",
      "Buy stock on 2023-01-03 and sell on 2023-01-05 to get a maximum profit of 27\n"
     ]
    }
   ],
   "source": [
    "# change stock price fluctuations\n",
    "stock_price = [10, 5, 20, 32, 25, 12]\n",
    "\n",
    "dates = [\n",
    "    \"2023-01-01\",\n",
    "    \"2023-01-02\",\n",
    "    \"2023-01-03\",\n",
    "    \"2023-01-04\",\n",
    "    \"2023-01-05\",\n",
    "    \"2023-01-06\",\n",
    "]\n",
    "\n",
    "day_to_buy, day_to_sell, profit = get_max_profit(stock_price, dates)"
   ]
  },
  {
   "cell_type": "code",
   "execution_count": null,
   "id": "25b8ce68-e267-45e7-ba05-d34257df32bc",
   "metadata": {},
   "outputs": [],
   "source": []
  }
 ],
 "metadata": {
  "kernelspec": {
   "display_name": "projects",
   "language": "python",
   "name": "projects"
  },
  "language_info": {
   "codemirror_mode": {
    "name": "ipython",
    "version": 3
   },
   "file_extension": ".py",
   "mimetype": "text/x-python",
   "name": "python",
   "nbconvert_exporter": "python",
   "pygments_lexer": "ipython3",
   "version": "3.10.9"
  }
 },
 "nbformat": 4,
 "nbformat_minor": 5
}
